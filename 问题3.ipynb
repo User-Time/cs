{
 "cells": [
  {
   "cell_type": "code",
   "execution_count": 1,
   "id": "26791813",
   "metadata": {},
   "outputs": [],
   "source": [
    "import pandas as pd\n",
    "import re"
   ]
  },
  {
   "cell_type": "raw",
   "id": "aa14c4b7",
   "metadata": {},
   "source": [
    "提交代码文件（.ipynb格式文件）和处理后的二手房屋数据（result3.csv）。文件使用压缩包的形式上传，并以“手机号+问题3”命名，如“XXX+问题3”文件名。\n",
    "注：为确保拿到相应分数，请务必提交处理后的二手房屋数据result3.csv。30分"
   ]
  },
  {
   "cell_type": "raw",
   "id": "cc1a02cb",
   "metadata": {},
   "source": [
    "（1）删除数据中含有“暂无”字符与缺失值（NAN）的行数据。"
   ]
  },
  {
   "cell_type": "code",
   "execution_count": 2,
   "id": "4da30006",
   "metadata": {},
   "outputs": [],
   "source": [
    "sales = pd.read_csv(\"/data/SecondhandHouseV5.csv\")"
   ]
  },
  {
   "cell_type": "code",
   "execution_count": 3,
   "id": "ba1ce0e2",
   "metadata": {},
   "outputs": [],
   "source": [
    "sales = sales.loc[[i for i in sales.index if True in set(pd.notna(sales.loc[i])) and len(set(pd.notna(sales.loc[i]))) == 1]]\n",
    "sales = sales.loc[[i for i in sales.index if False in set(sales.loc[i] == \"暂无\") and len(set(pd.notna(sales.loc[i]))) == 1]]"
   ]
  },
  {
   "cell_type": "raw",
   "id": "d94d1696",
   "metadata": {},
   "source": [
    "（2）\n",
    "对完全重复的行数据进行删除，只保留第一次出现的重复行数据。4分"
   ]
  },
  {
   "cell_type": "code",
   "execution_count": 4,
   "id": "61414d3f",
   "metadata": {},
   "outputs": [],
   "source": [
    "sales = sales.drop_duplicates()"
   ]
  },
  {
   "cell_type": "raw",
   "id": "c6d80ac7",
   "metadata": {},
   "source": [
    "（3）\n",
    "删除“单价”列中价格单位“元/平米”，仅保留数值，并将其数据类型转换为浮点型。5分"
   ]
  },
  {
   "cell_type": "code",
   "execution_count": 5,
   "id": "24102a95",
   "metadata": {},
   "outputs": [],
   "source": [
    "sales[\"单价\"] = [float(re.sub(\"元/平米\",\"\",sales.loc[i, \"单价\"])) for i in sales.index]"
   ]
  },
  {
   "cell_type": "raw",
   "id": "e3c1f65c",
   "metadata": {},
   "source": [
    "（4）删除“建筑面积”列中面积含有“0平米”与“1平米”异常值的行数据。4分"
   ]
  },
  {
   "cell_type": "code",
   "execution_count": 6,
   "id": "cd7386ee",
   "metadata": {},
   "outputs": [],
   "source": [
    "sales = sales.loc[[i for i in sales.index if sales.loc[i,\"建筑面积\"] != \"1平米\" and sales.loc[i,\"建筑面积\"] != \"0平米\"]]"
   ]
  },
  {
   "cell_type": "raw",
   "id": "88c52605",
   "metadata": {},
   "source": [
    "（5）提取“户型”列中的室、厅、卫的数量，如“3室1厅1卫”则提取“3，1，1”，分别存入“室”、“厅”和“卫”列。3分"
   ]
  },
  {
   "cell_type": "code",
   "execution_count": 7,
   "id": "575a6ae6",
   "metadata": {},
   "outputs": [],
   "source": [
    "stw = [re.sub(re.compile(r\"\\D\"),\",\",sales.loc[i,\"户型\"]).split(',') for i in sales.index]"
   ]
  },
  {
   "cell_type": "code",
   "execution_count": 8,
   "id": "5c818f23",
   "metadata": {},
   "outputs": [],
   "source": [
    "sales.index = range(sales.shape[0])\n",
    "sales.insert(sales.shape[1],\"室\",[i[0] for i in stw[:]])\n",
    "sales.insert(sales.shape[1],\"厅\",[i[1] for i in stw[:]])\n",
    "sales.insert(sales.shape[1],\"卫\",[i[2] for i in stw[:]])"
   ]
  },
  {
   "cell_type": "raw",
   "id": "27492a7d",
   "metadata": {},
   "source": [
    "（6）\n",
    "将“区域”列中的“城关区”改为“城关”。2分"
   ]
  },
  {
   "cell_type": "code",
   "execution_count": 13,
   "id": "5ba78961",
   "metadata": {},
   "outputs": [],
   "source": [
    "sales[\"区域\"] = [re.sub(\"城关区\",\"城关\",sales.loc[i,\"区域\"]) for i in sales.index]"
   ]
  },
  {
   "cell_type": "raw",
   "id": "12ee6722",
   "metadata": {},
   "source": [
    "（7）\n",
    "删除“户型”、“建筑年代”、“住宅类别”和“产权性质”列。4分"
   ]
  },
  {
   "cell_type": "code",
   "execution_count": 15,
   "id": "43e383da",
   "metadata": {},
   "outputs": [],
   "source": [
    "sales = sales.drop([\"户型\",\"建筑年代\",\"住宅类别\",\"产权性质\"],axis=1)"
   ]
  },
  {
   "cell_type": "raw",
   "id": "ab5dab34",
   "metadata": {},
   "source": [
    "（8）\n",
    "完成上述步骤后，将处理后的二手房屋数据保存为CSV文件，保存路径设定为“/data/result3.csv”，编码格式为“utf-8”。"
   ]
  },
  {
   "cell_type": "code",
   "execution_count": 16,
   "id": "4c51ac3f",
   "metadata": {},
   "outputs": [],
   "source": [
    "sales.to_csv(\"/data/result3.csv\",encoding=\"UTF-8\",index=None)"
   ]
  },
  {
   "cell_type": "code",
   "execution_count": null,
   "id": "d04b7345",
   "metadata": {},
   "outputs": [],
   "source": []
  }
 ],
 "metadata": {
  "kernelspec": {
   "display_name": "Python 3 (ipykernel)",
   "language": "python",
   "name": "python3"
  },
  "language_info": {
   "codemirror_mode": {
    "name": "ipython",
    "version": 3
   },
   "file_extension": ".py",
   "mimetype": "text/x-python",
   "name": "python",
   "nbconvert_exporter": "python",
   "pygments_lexer": "ipython3",
   "version": "3.8.5"
  }
 },
 "nbformat": 4,
 "nbformat_minor": 5
}
